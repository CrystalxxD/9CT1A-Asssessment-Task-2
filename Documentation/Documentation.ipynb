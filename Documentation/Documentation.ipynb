{
 "cells": [
  {
   "cell_type": "markdown",
   "metadata": {},
   "source": [
    "# Documentation\n",
    "Data: Description of the data you are looking to analyse.\n",
    "\n",
    "Change in price of cars as it gets newer \n",
    "\n",
    "Goal: Explanation of what you want to find out using the data.\n",
    "\n",
    "Seeing if the cars get more expensive or less expensive as the car getsa older\n",
    "\n",
    "Source: Link to the source of your data.\n",
    "Source is https://www.kaggle.com/datasets/waqi786/cars-dataset-2010-2020\n",
    "\n",
    "Access: Identification of whether the data is publicly available or not.\n",
    "Its assessable for anyone\n",
    "\n",
    "Access Method: How you will access the data (.csv or API)\n",
    "CSV file\n",
    "\n",
    "## Functional Requirements\n"
   ]
  }
 ],
 "metadata": {
  "language_info": {
   "name": "python"
  }
 },
 "nbformat": 4,
 "nbformat_minor": 2
}

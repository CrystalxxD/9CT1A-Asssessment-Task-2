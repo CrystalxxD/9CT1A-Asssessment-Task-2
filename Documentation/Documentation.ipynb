{
 "cells": [
  {
   "cell_type": "markdown",
   "metadata": {},
   "source": [
    "# Documentation\n",
    "Data: Description of the data you are looking to analyse.\n",
    "Change in price of cars as it gets newer \n",
    "\n",
    "Goal: Explanation of what you want to find out using the data.\n",
    "Seeing if the cars get more expensive or less expensive as the car getsa older\n",
    "\n",
    "Source: Link to the source of your data.\n",
    "\n",
    "\n",
    "Access: Identification of whether the data is publicly available or not.\n",
    "\n",
    "Access Method: How you will access the data (.csv or API)\n",
    "CSV\n",
    "\n",
    "## Functional Requiremnts\n"
   ]
  }
 ],
 "metadata": {
  "language_info": {
   "name": "python"
  }
 },
 "nbformat": 4,
 "nbformat_minor": 2
}

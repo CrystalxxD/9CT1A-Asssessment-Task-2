{
 "cells": [
  {
   "cell_type": "markdown",
   "metadata": {},
   "source": [
    "# Documentation\n",
    "Data: Description of the data you are looking to analyse.\n",
    "Goal: Explanation of what you want to find out using the data.\n",
    "Source: Link to the source of your data.\n",
    "Access: Identification of whether the data is publicly available or not.\n",
    "Access Method: How you will access the data (.csv or API)\n",
    "\n"
   ]
  }
 ],
 "metadata": {
  "language_info": {
   "name": "python"
  }
 },
 "nbformat": 4,
 "nbformat_minor": 2
}
